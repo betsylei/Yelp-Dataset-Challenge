{
 "cells": [
  {
   "cell_type": "markdown",
   "metadata": {},
   "source": [
    "# Yelp Data Challenge - Data Preprocessing\n",
    "\n",
    "BitTiger DS501\n",
    "\n",
    "Jun 2017"
   ]
  },
  {
   "cell_type": "markdown",
   "metadata": {},
   "source": [
    "## Dataset Introduction\n",
    "\n",
    "[Yelp Dataset Challenge](https://www.yelp.com/dataset_challenge)\n",
    "\n",
    "The Challenge Dataset:\n",
    "\n",
    "    4.1M reviews and 947K tips by 1M users for 144K businesses\n",
    "    1.1M business attributes, e.g., hours, parking availability, ambience.\n",
    "    Aggregated check-ins over time for each of the 125K businesses\n",
    "    200,000 pictures from the included businesses\n",
    "\n",
    "Cities:\n",
    "\n",
    "    U.K.: Edinburgh\n",
    "    Germany: Karlsruhe\n",
    "    Canada: Montreal and Waterloo\n",
    "    U.S.: Pittsburgh, Charlotte, Urbana-Champaign, Phoenix, Las Vegas, Madison, Cleveland\n",
    "\n",
    "Files:\n",
    "\n",
    "    yelp_academic_dataset_business.json\n",
    "    yelp_academic_dataset_checkin.json\n",
    "    yelp_academic_dataset_review.json\n",
    "    yelp_academic_dataset_tip.json\n",
    "    yelp_academic_dataset_user.json\n",
    "\n",
    "Notes on the Dataset\n",
    "\n",
    "    Each file is composed of a single object type, one json-object per-line.\n",
    "    Take a look at some examples to get you started: https://github.com/Yelp/dataset-examples.\n",
    "\n"
   ]
  },
  {
   "cell_type": "markdown",
   "metadata": {},
   "source": [
    "## Read data from file and load to Pandas DataFrame\n",
    "\n",
    "**Warning**: Loading all the 1.8 GB data into Pandas at a time takes long time and a lot of memory!"
   ]
  },
  {
   "cell_type": "code",
   "execution_count": 42,
   "metadata": {
    "collapsed": true
   },
   "outputs": [],
   "source": [
    "import json\n",
    "from collections import defaultdict"
   ]
  },
  {
   "cell_type": "code",
   "execution_count": 43,
   "metadata": {
    "collapsed": true
   },
   "outputs": [],
   "source": [
    "import pandas as pd"
   ]
  },
  {
   "cell_type": "code",
   "execution_count": 47,
   "metadata": {},
   "outputs": [],
   "source": [
    "file_business, file_checkin, file_review, file_tip, file_user = [\n",
    "    'yelp_academic_dataset_business.json',\n",
    "    'yelp_academic_dataset_checkin.json',\n",
    "    'yelp_academic_dataset_review.json',\n",
    "    'yelp_academic_dataset_tip.json',\n",
    "    'yelp_academic_dataset_user.json'\n",
    "]"
   ]
  },
  {
   "cell_type": "markdown",
   "metadata": {},
   "source": [
    "#### Business Data"
   ]
  },
  {
   "cell_type": "code",
   "execution_count": 50,
   "metadata": {},
   "outputs": [],
   "source": [
    "with open(file_business) as f:\n",
    "    df_business = pd.DataFrame(json.loads(line) for line in f)"
   ]
  },
  {
   "cell_type": "code",
   "execution_count": 51,
   "metadata": {},
   "outputs": [
    {
     "data": {
      "text/html": [
       "<div>\n",
       "<style>\n",
       "    .dataframe thead tr:only-child th {\n",
       "        text-align: right;\n",
       "    }\n",
       "\n",
       "    .dataframe thead th {\n",
       "        text-align: left;\n",
       "    }\n",
       "\n",
       "    .dataframe tbody tr th {\n",
       "        vertical-align: top;\n",
       "    }\n",
       "</style>\n",
       "<table border=\"1\" class=\"dataframe\">\n",
       "  <thead>\n",
       "    <tr style=\"text-align: right;\">\n",
       "      <th></th>\n",
       "      <th>address</th>\n",
       "      <th>attributes</th>\n",
       "      <th>business_id</th>\n",
       "      <th>categories</th>\n",
       "      <th>city</th>\n",
       "      <th>hours</th>\n",
       "      <th>is_open</th>\n",
       "      <th>latitude</th>\n",
       "      <th>longitude</th>\n",
       "      <th>name</th>\n",
       "      <th>neighborhood</th>\n",
       "      <th>postal_code</th>\n",
       "      <th>review_count</th>\n",
       "      <th>stars</th>\n",
       "      <th>state</th>\n",
       "    </tr>\n",
       "  </thead>\n",
       "  <tbody>\n",
       "    <tr>\n",
       "      <th>0</th>\n",
       "      <td>1314 44 Avenue NE</td>\n",
       "      <td>{'BikeParking': 'False', 'BusinessAcceptsCredi...</td>\n",
       "      <td>Apn5Q_b6Nz61Tq4XzPdf9A</td>\n",
       "      <td>Tours, Breweries, Pizza, Restaurants, Food, Ho...</td>\n",
       "      <td>Calgary</td>\n",
       "      <td>{'Monday': '8:30-17:0', 'Tuesday': '11:0-21:0'...</td>\n",
       "      <td>1</td>\n",
       "      <td>51.091813</td>\n",
       "      <td>-114.031675</td>\n",
       "      <td>Minhas Micro Brewery</td>\n",
       "      <td></td>\n",
       "      <td>T2E 6L6</td>\n",
       "      <td>24</td>\n",
       "      <td>4.0</td>\n",
       "      <td>AB</td>\n",
       "    </tr>\n",
       "    <tr>\n",
       "      <th>1</th>\n",
       "      <td></td>\n",
       "      <td>{'Alcohol': 'none', 'BikeParking': 'False', 'B...</td>\n",
       "      <td>AjEbIBw6ZFfln7ePHha9PA</td>\n",
       "      <td>Chicken Wings, Burgers, Caterers, Street Vendo...</td>\n",
       "      <td>Henderson</td>\n",
       "      <td>{'Friday': '17:0-23:0', 'Saturday': '17:0-23:0...</td>\n",
       "      <td>0</td>\n",
       "      <td>35.960734</td>\n",
       "      <td>-114.939821</td>\n",
       "      <td>CK'S BBQ &amp; Catering</td>\n",
       "      <td></td>\n",
       "      <td>89002</td>\n",
       "      <td>3</td>\n",
       "      <td>4.5</td>\n",
       "      <td>NV</td>\n",
       "    </tr>\n",
       "  </tbody>\n",
       "</table>\n",
       "</div>"
      ],
      "text/plain": [
       "             address                                         attributes  \\\n",
       "0  1314 44 Avenue NE  {'BikeParking': 'False', 'BusinessAcceptsCredi...   \n",
       "1                     {'Alcohol': 'none', 'BikeParking': 'False', 'B...   \n",
       "\n",
       "              business_id                                         categories  \\\n",
       "0  Apn5Q_b6Nz61Tq4XzPdf9A  Tours, Breweries, Pizza, Restaurants, Food, Ho...   \n",
       "1  AjEbIBw6ZFfln7ePHha9PA  Chicken Wings, Burgers, Caterers, Street Vendo...   \n",
       "\n",
       "        city                                              hours  is_open  \\\n",
       "0    Calgary  {'Monday': '8:30-17:0', 'Tuesday': '11:0-21:0'...        1   \n",
       "1  Henderson  {'Friday': '17:0-23:0', 'Saturday': '17:0-23:0...        0   \n",
       "\n",
       "    latitude   longitude                  name neighborhood postal_code  \\\n",
       "0  51.091813 -114.031675  Minhas Micro Brewery                  T2E 6L6   \n",
       "1  35.960734 -114.939821   CK'S BBQ & Catering                    89002   \n",
       "\n",
       "   review_count  stars state  \n",
       "0            24    4.0    AB  \n",
       "1             3    4.5    NV  "
      ]
     },
     "execution_count": 51,
     "metadata": {},
     "output_type": "execute_result"
    }
   ],
   "source": [
    "df_business.head(2)"
   ]
  },
  {
   "cell_type": "code",
   "execution_count": 8,
   "metadata": {},
   "outputs": [
    {
     "name": "stdout",
     "output_type": "stream",
     "text": [
      "<class 'pandas.core.frame.DataFrame'>\n",
      "RangeIndex: 100 entries, 0 to 99\n",
      "Data columns (total 16 columns):\n",
      "address         100 non-null object\n",
      "attributes      87 non-null object\n",
      "business_id     100 non-null object\n",
      "categories      100 non-null object\n",
      "city            100 non-null object\n",
      "hours           68 non-null object\n",
      "is_open         100 non-null int64\n",
      "latitude        100 non-null float64\n",
      "longitude       100 non-null float64\n",
      "name            100 non-null object\n",
      "neighborhood    100 non-null object\n",
      "postal_code     100 non-null object\n",
      "review_count    100 non-null int64\n",
      "stars           100 non-null float64\n",
      "state           100 non-null object\n",
      "type            100 non-null object\n",
      "dtypes: float64(3), int64(2), object(11)\n",
      "memory usage: 12.6+ KB\n"
     ]
    }
   ],
   "source": [
    "df_business.info()"
   ]
  },
  {
   "cell_type": "markdown",
   "metadata": {},
   "source": [
    "#### Checkin Data"
   ]
  },
  {
   "cell_type": "code",
   "execution_count": 52,
   "metadata": {},
   "outputs": [
    {
     "data": {
      "text/html": [
       "<div>\n",
       "<style>\n",
       "    .dataframe thead tr:only-child th {\n",
       "        text-align: right;\n",
       "    }\n",
       "\n",
       "    .dataframe thead th {\n",
       "        text-align: left;\n",
       "    }\n",
       "\n",
       "    .dataframe tbody tr th {\n",
       "        vertical-align: top;\n",
       "    }\n",
       "</style>\n",
       "<table border=\"1\" class=\"dataframe\">\n",
       "  <thead>\n",
       "    <tr style=\"text-align: right;\">\n",
       "      <th></th>\n",
       "      <th>business_id</th>\n",
       "      <th>time</th>\n",
       "    </tr>\n",
       "  </thead>\n",
       "  <tbody>\n",
       "    <tr>\n",
       "      <th>0</th>\n",
       "      <td>7KPBkxAOEtb3QeIL9PEErg</td>\n",
       "      <td>{'Fri-0': 2, 'Sat-0': 1, 'Sun-0': 1, 'Wed-0': ...</td>\n",
       "    </tr>\n",
       "    <tr>\n",
       "      <th>1</th>\n",
       "      <td>kREVIrSBbtqBhIYkTccQUg</td>\n",
       "      <td>{'Mon-13': 1, 'Thu-13': 1, 'Sat-16': 1, 'Wed-1...</td>\n",
       "    </tr>\n",
       "  </tbody>\n",
       "</table>\n",
       "</div>"
      ],
      "text/plain": [
       "              business_id                                               time\n",
       "0  7KPBkxAOEtb3QeIL9PEErg  {'Fri-0': 2, 'Sat-0': 1, 'Sun-0': 1, 'Wed-0': ...\n",
       "1  kREVIrSBbtqBhIYkTccQUg  {'Mon-13': 1, 'Thu-13': 1, 'Sat-16': 1, 'Wed-1..."
      ]
     },
     "execution_count": 52,
     "metadata": {},
     "output_type": "execute_result"
    }
   ],
   "source": [
    "with open(file_checkin) as f:\n",
    "    df_checkin = pd.DataFrame(json.loads(line) for line in f)\n",
    "df_checkin.head(2)"
   ]
  },
  {
   "cell_type": "markdown",
   "metadata": {},
   "source": [
    "#### Review Data"
   ]
  },
  {
   "cell_type": "code",
   "execution_count": null,
   "metadata": {},
   "outputs": [],
   "source": [
    "with open(file_review) as f:\n",
    "    df_review = pd.DataFrame(json.loads(line) for line in f)\n",
    "df_review.head(2)"
   ]
  },
  {
   "cell_type": "markdown",
   "metadata": {},
   "source": [
    "#### Tip Data"
   ]
  },
  {
   "cell_type": "code",
   "execution_count": null,
   "metadata": {},
   "outputs": [],
   "source": [
    "with open(file_tip) as f:\n",
    "     df_tip = pd.DataFrame(json.loads(line) for line in f)\n",
    "df_tip.head(2)"
   ]
  },
  {
   "cell_type": "markdown",
   "metadata": {},
   "source": [
    "#### User Data"
   ]
  },
  {
   "cell_type": "code",
   "execution_count": null,
   "metadata": {},
   "outputs": [],
   "source": [
    " with open(file_user) as f:\n",
    "    df_user = pd.DataFrame(json.loads(line) for line in f)\n",
    "df_user.head(2)"
   ]
  },
  {
   "cell_type": "markdown",
   "metadata": {},
   "source": [
    "## Filter data by city and category"
   ]
  },
  {
   "cell_type": "markdown",
   "metadata": {},
   "source": [
    "#### Create filters/masks\n",
    "\n",
    "* create filters that selects business \n",
    "    * that are located in \"Las Vegas\"\n",
    "    * that contains \"Restaurants\" in their category (You may need to filter null categories first)"
   ]
  },
  {
   "cell_type": "code",
   "execution_count": null,
   "metadata": {
    "collapsed": true
   },
   "outputs": [],
   "source": [
    "# Create Pandas DataFrame filters\n",
    "df_business = pd.read_json('yelp_academic_dataset_business.json', lines=True)\n",
    "df_business = df_business[df_business['city'] == 'Las Vegas']"
   ]
  },
  {
   "cell_type": "code",
   "execution_count": null,
   "metadata": {
    "collapsed": true
   },
   "outputs": [],
   "source": [
    "# Create filtered DataFrame, and name it df_filtered\n",
    "# retain only \"Restaurants\"\n",
    "df_filtered = df_business[df_business['categories'].apply(lambda x: 'Restaurants' in x)].reset_index(drop=True)[['business_id', 'stars', 'name','categories']]\n",
    "\n",
    "# round stars and keep the results in column \"stars_round\"\n",
    "df_filtered['stars_round'] = df_business_restaurants['stars'].apply(round)\n",
    "\n",
    "df_filtered.head()"
   ]
  },
  {
   "cell_type": "markdown",
   "metadata": {},
   "source": [
    "#### Keep relevant columns\n",
    "\n",
    "* only keep some useful columns\n",
    "    * business_id\n",
    "    * name\n",
    "    * categories\n",
    "    * stars"
   ]
  },
  {
   "cell_type": "code",
   "execution_count": 15,
   "metadata": {
    "collapsed": true
   },
   "outputs": [],
   "source": [
    "selected_features = [u'business_id', u'name', u'categories', u'stars']"
   ]
  },
  {
   "cell_type": "code",
   "execution_count": 16,
   "metadata": {
    "collapsed": true
   },
   "outputs": [],
   "source": [
    "# Make a DataFrame that contains only the abovementioned columns, and name it as df_selected_business\n",
    "df_selected_business = df_business[df_business['categories'].apply(lambda x: 'Restaurants' in x)].reset_index(drop=True)[['business_id', 'stars', 'name','categories']]"
   ]
  },
  {
   "cell_type": "code",
   "execution_count": 17,
   "metadata": {
    "collapsed": true
   },
   "outputs": [],
   "source": [
    "# Rename the column name \"stars\" to \"avg_stars\" to avoid naming conflicts with review dataset\n",
    "df_selected_business.rename(columns = {\"stars\":\"avg_stars\"})"
   ]
  },
  {
   "cell_type": "code",
   "execution_count": 18,
   "metadata": {
    "collapsed": true
   },
   "outputs": [],
   "source": [
    "# Inspect your DataFrame\n",
    "df_selected_business.head()"
   ]
  },
  {
   "cell_type": "markdown",
   "metadata": {},
   "source": [
    "#### Save results to csv files"
   ]
  },
  {
   "cell_type": "code",
   "execution_count": 19,
   "metadata": {
    "collapsed": true
   },
   "outputs": [],
   "source": [
    "# Save to ./data/selected_business.csv for your next task\n",
    "df_selected_business.to_csv('selected_business.csv',header = True)"
   ]
  },
  {
   "cell_type": "code",
   "execution_count": 20,
   "metadata": {
    "collapsed": true
   },
   "outputs": [],
   "source": [
    "# Try reload the csv file to check if everything works fine\n",
    "df_selected_business_csv = pd.read_csv('selected_business.csv')"
   ]
  },
  {
   "cell_type": "markdown",
   "metadata": {},
   "source": [
    "### Use the \"business_id\" column to filter review data\n",
    "\n",
    "* We want to make a DataFrame that contain and only contain the reviews about the business entities we just obtained"
   ]
  },
  {
   "cell_type": "markdown",
   "metadata": {},
   "source": [
    "#### Load review dataset"
   ]
  },
  {
   "cell_type": "code",
   "execution_count": 21,
   "metadata": {},
   "outputs": [
    {
     "data": {
      "text/html": [
       "<div>\n",
       "<style>\n",
       "    .dataframe thead tr:only-child th {\n",
       "        text-align: right;\n",
       "    }\n",
       "\n",
       "    .dataframe thead th {\n",
       "        text-align: left;\n",
       "    }\n",
       "\n",
       "    .dataframe tbody tr th {\n",
       "        vertical-align: top;\n",
       "    }\n",
       "</style>\n",
       "<table border=\"1\" class=\"dataframe\">\n",
       "  <thead>\n",
       "    <tr style=\"text-align: right;\">\n",
       "      <th></th>\n",
       "      <th>business_id</th>\n",
       "      <th>cool</th>\n",
       "      <th>date</th>\n",
       "      <th>funny</th>\n",
       "      <th>review_id</th>\n",
       "      <th>stars</th>\n",
       "      <th>text</th>\n",
       "      <th>type</th>\n",
       "      <th>useful</th>\n",
       "      <th>user_id</th>\n",
       "    </tr>\n",
       "  </thead>\n",
       "  <tbody>\n",
       "    <tr>\n",
       "      <th>0</th>\n",
       "      <td>2aFiy99vNLklCx3T_tGS9A</td>\n",
       "      <td>0</td>\n",
       "      <td>2011-10-10</td>\n",
       "      <td>0</td>\n",
       "      <td>NxL8SIC5yqOdnlXCg18IBg</td>\n",
       "      <td>5</td>\n",
       "      <td>If you enjoy service by someone who is as comp...</td>\n",
       "      <td>review</td>\n",
       "      <td>0</td>\n",
       "      <td>KpkOkG6RIf4Ra25Lhhxf1A</td>\n",
       "    </tr>\n",
       "    <tr>\n",
       "      <th>1</th>\n",
       "      <td>2aFiy99vNLklCx3T_tGS9A</td>\n",
       "      <td>0</td>\n",
       "      <td>2010-12-29</td>\n",
       "      <td>0</td>\n",
       "      <td>pXbbIgOXvLuTi_SPs1hQEQ</td>\n",
       "      <td>5</td>\n",
       "      <td>After being on the phone with Verizon Wireless...</td>\n",
       "      <td>review</td>\n",
       "      <td>1</td>\n",
       "      <td>bQ7fQq1otn9hKX-gXRsrgA</td>\n",
       "    </tr>\n",
       "  </tbody>\n",
       "</table>\n",
       "</div>"
      ],
      "text/plain": [
       "              business_id  cool        date  funny               review_id  \\\n",
       "0  2aFiy99vNLklCx3T_tGS9A     0  2011-10-10      0  NxL8SIC5yqOdnlXCg18IBg   \n",
       "1  2aFiy99vNLklCx3T_tGS9A     0  2010-12-29      0  pXbbIgOXvLuTi_SPs1hQEQ   \n",
       "\n",
       "   stars                                               text    type  useful  \\\n",
       "0      5  If you enjoy service by someone who is as comp...  review       0   \n",
       "1      5  After being on the phone with Verizon Wireless...  review       1   \n",
       "\n",
       "                  user_id  \n",
       "0  KpkOkG6RIf4Ra25Lhhxf1A  \n",
       "1  bQ7fQq1otn9hKX-gXRsrgA  "
      ]
     },
     "execution_count": 21,
     "metadata": {},
     "output_type": "execute_result"
    }
   ],
   "source": [
    "with open(file_review) as f:\n",
    "    df_review = pd.DataFrame(json.loads(line) for line in f)\n",
    "df_review.head(2)"
   ]
  },
  {
   "cell_type": "markdown",
   "metadata": {},
   "source": [
    "#### Prepare dataframes to be joined, - on business_id"
   ]
  },
  {
   "cell_type": "code",
   "execution_count": 22,
   "metadata": {
    "collapsed": true
   },
   "outputs": [],
   "source": [
    "# Prepare the business dataframe and set index to column \"business_id\", and name it as df_left\n",
    "df_business_2 = pd.read_json('yelp_academic_dataset_business.json', lines=True, index = 'business_id')\n",
    "pd.Index.rename(\"df_left\", inplace = False)"
   ]
  },
  {
   "cell_type": "code",
   "execution_count": 23,
   "metadata": {
    "collapsed": true
   },
   "outputs": [],
   "source": [
    "# Prepare the review dataframe and set index to column \"business_id\", and name it as df_right\n",
    "df_business_3 = pd.read_json('yelp_academic_dataset_review.json', lines=True, index = 'business_id')\n",
    "pd.Index.rename(\"df_right\",inplace = False)"
   ]
  },
  {
   "cell_type": "markdown",
   "metadata": {},
   "source": [
    "#### Join! and reset index"
   ]
  },
  {
   "cell_type": "code",
   "execution_count": 24,
   "metadata": {
    "collapsed": true
   },
   "outputs": [],
   "source": [
    "# Join df_left and df_right. What type of join?\n",
    "#Join using index with left join\n",
    "df_merge = pd.merge(df_business_2, df_business_3, how = 'left')"
   ]
  },
  {
   "cell_type": "code",
   "execution_count": 25,
   "metadata": {
    "collapsed": true
   },
   "outputs": [],
   "source": [
    "# You may want to reset the index \n",
    "df_merge.reset_index()"
   ]
  },
  {
   "cell_type": "markdown",
   "metadata": {},
   "source": [
    "#### We further filter data by date, e.g. keep comments from last 2 years\n",
    "\n",
    "* Otherwise your laptop may crush on memory when running machine learning algorithms\n",
    "* Purposefully ignoring the reviews made too long time ago"
   ]
  },
  {
   "cell_type": "code",
   "execution_count": 26,
   "metadata": {
    "collapsed": true,
    "scrolled": true
   },
   "outputs": [],
   "source": [
    "# Make a filter that selects date after 2015-01-20\n",
    "df_final = pd.read_json('yelp_academic_dataset_review.json', lines=True)\n",
    "df_final = df_business_3[df_business_3['date'] >= '2015-01-20']"
   ]
  },
  {
   "cell_type": "code",
   "execution_count": 27,
   "metadata": {
    "collapsed": true
   },
   "outputs": [],
   "source": [
    "# Filter the joined DataFrame and name it as df_final\n",
    "df_final.head()"
   ]
  },
  {
   "cell_type": "markdown",
   "metadata": {},
   "source": [
    "#### Take a glance at the final dataset\n",
    "\n",
    "* Do more EDA here as you like!"
   ]
  },
  {
   "cell_type": "code",
   "execution_count": 28,
   "metadata": {
    "collapsed": true
   },
   "outputs": [],
   "source": [
    "import matplotlib.pyplot as plt\n",
    "\n",
    "% matplotlib inline"
   ]
  },
  {
   "cell_type": "code",
   "execution_count": 29,
   "metadata": {
    "collapsed": true
   },
   "outputs": [],
   "source": [
    "# e.g. calculate counts of reviews per business entity, and plot it\n",
    "\n",
    "# group businesses by stars\n",
    "group_by_stars = df_final.groupby('stars_round')\n",
    "\n",
    "# frequency of cities corresponding to stars\n",
    "city_freq_of_stars = {}\n",
    "\n",
    "num_cities = len(df_business_restaurants['city'].unique())\n",
    "\n",
    "# increase the value of maximum rows in order to show all frequency results later.\n",
    "# +1 is for the table header.\n",
    "pd.set_option('display.max_rows', num_cities + 1)\n",
    "\n",
    "for star in group_by_stars.groups:\n",
    "    business_of_star_df = group_by_stars.get_group(star)\n",
    "    \n",
    "    city_freq = {}\n",
    "    num_business = len(business_of_star_df)\n",
    "    \n",
    "    # Now group them by city\n",
    "    city_of_business = business_of_star_df.groupby('city')\n",
    "    for city in city_of_business.groups:\n",
    "        # we use the add-one or Laplace smoothing\n",
    "        city_freq[city] = (len(city_of_business.get_group(city)) + 1.0) / (num_business + num_cities)\n",
    "    \n",
    "    # this value is for cities not in the a specify \"group of star\",\n",
    "    # e.g. city \"glendale\" is not in group of star 1\n",
    "    city_freq['default'] = 1.0 / (num_business + num_cities)\n",
    "    \n",
    "    city_freq_of_stars[star] = city_freq\n",
    "    \n",
    "city_freq_of_stars_df = pd.DataFrame.from_dict(city_freq_of_stars)\n",
    "\n",
    "for c in city_freq_of_stars_df.columns.values:\n",
    "    city_freq_of_stars_df[c] = city_freq_of_stars_df[c].fillna(city_freq_of_stars_df[c]['default'])\n",
    "\n",
    "city_freq_of_stars_df"
   ]
  },
  {
   "cell_type": "markdown",
   "metadata": {},
   "source": [
    "## Save your preprocessed dataset to csv file\n",
    "\n",
    "* Respect your laptop's hard work! You don't want to make it run everything again."
   ]
  },
  {
   "cell_type": "code",
   "execution_count": 30,
   "metadata": {
    "collapsed": true
   },
   "outputs": [],
   "source": [
    "# Save to ./data/last_2_years_restaurant_reviews.csv for your next task\n",
    "df_final.to_csv(\"../data/last_2_years_restaurant_reviews.csv\")"
   ]
  },
  {
   "cell_type": "code",
   "execution_count": null,
   "metadata": {
    "collapsed": true
   },
   "outputs": [],
   "source": []
  }
 ],
 "metadata": {
  "anaconda-cloud": {},
  "kernelspec": {
   "display_name": "Python 3",
   "language": "python",
   "name": "python3"
  },
  "language_info": {
   "codemirror_mode": {
    "name": "ipython",
    "version": 3
   },
   "file_extension": ".py",
   "mimetype": "text/x-python",
   "name": "python",
   "nbconvert_exporter": "python",
   "pygments_lexer": "ipython3",
   "version": "3.6.3"
  }
 },
 "nbformat": 4,
 "nbformat_minor": 1
}
